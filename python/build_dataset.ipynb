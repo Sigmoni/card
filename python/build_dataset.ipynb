{
 "cells": [
  {
   "cell_type": "code",
   "execution_count": null,
   "metadata": {},
   "outputs": [],
   "source": [
    "import pandas as pd\n",
    "import numpy as np"
   ]
  },
  {
   "cell_type": "code",
   "execution_count": null,
   "metadata": {},
   "outputs": [],
   "source": [
    "# Read data\n",
    "# https://archive.ics.uci.edu/dataset/186/wine+quality\n",
    "data_raw = pd.read_csv(\"../data/winequality-white.csv\", sep=';')\n",
    "data_raw.head(5)"
   ]
  },
  {
   "cell_type": "code",
   "execution_count": null,
   "metadata": {},
   "outputs": [],
   "source": [
    "# Data normalization (Min-Max Normalization)\n",
    "data_norm = (data_raw - data_raw.min())/(data_raw.max() - data_raw.min())\n",
    "data_norm.head(5)"
   ]
  },
  {
   "cell_type": "code",
   "execution_count": null,
   "metadata": {},
   "outputs": [],
   "source": [
    "# Get the shape of Dataset\n",
    "n_rows = data_norm.shape[0]\n",
    "n_cols = data_norm.shape[1]\n",
    "\n",
    "print(n_cols, n_rows)"
   ]
  },
  {
   "cell_type": "code",
   "execution_count": null,
   "metadata": {},
   "outputs": [],
   "source": [
    "# Simple fuction to generate query\n",
    "def generate_query():\n",
    "    x1 = np.random.rand()\n",
    "    y1 = np.random.rand()\n",
    "    x2 = np.random.rand()\n",
    "    y2 = np.random.rand()\n",
    "    if (x1 > x2):\n",
    "        x1, x2 = x2, x1 \n",
    "    if (y1 > y2):\n",
    "        y1, y2 = y2, y1\n",
    "    return x1, y1, x2, y2 "
   ]
  },
  {
   "cell_type": "code",
   "execution_count": null,
   "metadata": {},
   "outputs": [],
   "source": [
    "def calculate_hist(x, y, bins):\n",
    "    hist = np.zeros((bins, bins), dtype=np.int64)\n",
    "    for i in range(x.shape[0]):\n",
    "        X = np.trunc(bins * x[i]).astype(np.int64)\n",
    "        if (X == bins):\n",
    "            X = X - 1 \n",
    "        Y = np.trunc(bins * y[i]).astype(np.int64)\n",
    "        if (Y == bins):\n",
    "            Y = Y - 1\n",
    "        hist[X][Y] = hist[X][Y] + 1 \n",
    "    return hist"
   ]
  },
  {
   "cell_type": "code",
   "execution_count": null,
   "metadata": {},
   "outputs": [],
   "source": [
    "def query_quantization(x, bins):\n",
    "    X = x * bins\n",
    "    nX = np.trunc(X).astype(np.int64)\n",
    "    if (nX == bins):\n",
    "        nX = nX - 1\n",
    "    rX = (X - nX).astype(np.float64)\n",
    "    return nX, rX"
   ]
  },
  {
   "cell_type": "code",
   "execution_count": null,
   "metadata": {},
   "outputs": [],
   "source": [
    "def label_count(x, y, qx, qy):\n",
    "    cnt = np.int64(0)\n",
    "    for i in range(x.shape[0]):\n",
    "        if (x[i] <= qx and y[i] <= qy):\n",
    "            cnt = cnt + 1\n",
    "    return cnt"
   ]
  },
  {
   "cell_type": "code",
   "execution_count": null,
   "metadata": {},
   "outputs": [],
   "source": [
    "n_bins = 8 \n",
    "n_quries = 100\n",
    "\n",
    "data_out = np.empty((0, n_bins * n_bins + 5))\n",
    "\n",
    "for i in range(n_cols - 1):\n",
    "    for j in range(i + 1, n_cols):\n",
    "        sample = data_norm.iloc[:, [i, j]]\n",
    "        x = sample.iloc[:, 0].to_numpy()\n",
    "        y = sample.iloc[:, 1].to_numpy()\n",
    "        hist = calculate_hist(x, y, bins=n_bins).reshape(-1)\n",
    "        for k in range(n_quries):\n",
    "            qx = np.random.rand()\n",
    "            qy = np.random.rand()\n",
    "            qX, rX = query_quantization(qx, bins=n_bins)\n",
    "            qY, rY = query_quantization(qy, bins=n_bins)\n",
    "            label = label_count(x, y, qx, qy)\n",
    "            new_row = np.append(hist, [qX, qY, rX, rY, label])\n",
    "            data_out = np.append(data_out, [new_row], axis=0)\n"
   ]
  },
  {
   "cell_type": "code",
   "execution_count": null,
   "metadata": {},
   "outputs": [],
   "source": [
    "column_names = np.append(np.array(range(n_bins * n_bins)), [\"qX\", \"qY\", \"rX\", \"rY\", \"label\"])\n",
    "data_df = pd.DataFrame(data=data_out, columns=column_names)\n",
    "data_df.to_csv(\"../data/winequality-white.processed.csv\")"
   ]
  },
  {
   "cell_type": "code",
   "execution_count": null,
   "metadata": {},
   "outputs": [],
   "source": []
  }
 ],
 "metadata": {
  "kernelspec": {
   "display_name": ".venv",
   "language": "python",
   "name": "python3"
  },
  "language_info": {
   "codemirror_mode": {
    "name": "ipython",
    "version": 3
   },
   "file_extension": ".py",
   "mimetype": "text/x-python",
   "name": "python",
   "nbconvert_exporter": "python",
   "pygments_lexer": "ipython3",
   "version": "3.11.3"
  },
  "orig_nbformat": 4
 },
 "nbformat": 4,
 "nbformat_minor": 2
}
