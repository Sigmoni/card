{
 "cells": [
  {
   "cell_type": "code",
   "execution_count": 1,
   "metadata": {},
   "outputs": [],
   "source": [
    "import torch\n",
    "import pandas as pd\n",
    "import matplotlib.pyplot as plt\n",
    "import numpy as np\n",
    "\n",
    "from torch import nn\n",
    "from torch.utils.data import DataLoader, TensorDataset\n",
    "from sklearn.model_selection import train_test_split\n",
    "from sklearn.metrics import r2_score"
   ]
  },
  {
   "cell_type": "code",
   "execution_count": 2,
   "metadata": {},
   "outputs": [],
   "source": [
    "# data_raw = pd.read_csv(\"../data/winequality-white.processed.csv\")\n",
    "# data_train, data_test = train_test_split(data_raw, test_size=0.2)\n",
    "\n",
    "data_train = pd.read_csv(\"../data/winequality-white.processed.csv\")\n",
    "data_test = pd.read_csv(\"../data/winequality-white.randTest.csv\")\n",
    "\n",
    "x_train = data_train.iloc[:, 1 :-2].values\n",
    "y_train = data_train[[\"label\"]].values\n",
    "\n",
    "x_test = data_test.iloc[:, 1 :-2].values\n",
    "y_test = data_test[[\"label\"]].values\n",
    "baseline = data_test[[\"baseline\"]].values"
   ]
  },
  {
   "cell_type": "code",
   "execution_count": 3,
   "metadata": {},
   "outputs": [],
   "source": [
    "batch_size = 64\n",
    "\n",
    "dataloader_train = DataLoader(TensorDataset(torch.tensor(x_train, requires_grad=True).float(), torch.tensor(y_train).float()),\n",
    "                              shuffle=True, batch_size=batch_size)\n",
    "\n",
    "dataloader_test = DataLoader(TensorDataset(torch.tensor(x_test).float(), torch.tensor(y_test).float(), torch.tensor(baseline).float()),\n",
    "                              shuffle=True, batch_size=batch_size)"
   ]
  },
  {
   "cell_type": "code",
   "execution_count": 4,
   "metadata": {},
   "outputs": [
    {
     "name": "stdout",
     "output_type": "stream",
     "text": [
      "Using cuda device\n"
     ]
    }
   ],
   "source": [
    "device = (\n",
    "    \"cuda\"\n",
    "    if torch.cuda.is_available()\n",
    "    else \"mps\"\n",
    "    if torch.backends.mps.is_available()\n",
    "    else \"cpu\"\n",
    ")\n",
    "print(f\"Using {device} device\")"
   ]
  },
  {
   "cell_type": "code",
   "execution_count": 5,
   "metadata": {},
   "outputs": [
    {
     "name": "stdout",
     "output_type": "stream",
     "text": [
      "NeuralNetwork(\n",
      "  (MLPs): Sequential(\n",
      "    (0): Linear(in_features=68, out_features=128, bias=True)\n",
      "    (1): ReLU()\n",
      "    (2): Linear(in_features=128, out_features=128, bias=True)\n",
      "    (3): ReLU()\n",
      "    (4): Linear(in_features=128, out_features=5, bias=True)\n",
      "    (5): ReLU()\n",
      "    (6): Linear(in_features=5, out_features=1, bias=True)\n",
      "  )\n",
      ")\n"
     ]
    }
   ],
   "source": [
    "n_bins = 8\n",
    "\n",
    "class NeuralNetwork(nn.Module):\n",
    "    def __init__(self):\n",
    "        super().__init__()\n",
    "        self.MLPs = nn.Sequential(\n",
    "            nn.Linear(n_bins * n_bins + 4, 128),\n",
    "            nn.ReLU(),\n",
    "            nn.Linear(128, 128),\n",
    "            nn.ReLU(),\n",
    "            nn.Linear(128, 5),\n",
    "            nn.ReLU(),\n",
    "            nn.Linear(5, 1)\n",
    "        )\n",
    "\n",
    "    def forward(self, x):\n",
    "        logits = self.MLPs(x)\n",
    "        return logits\n",
    "    \n",
    "model = NeuralNetwork().to(device=device)\n",
    "print(model)"
   ]
  },
  {
   "cell_type": "code",
   "execution_count": 6,
   "metadata": {},
   "outputs": [],
   "source": [
    "def compute_gradient(qx, qy, rx, ry, n_bins):\n",
    "    grad = np.zeros((n_bins, n_bins))\n",
    "\n",
    "    for i in range(qx):\n",
    "        for j in range(qy):\n",
    "            grad[i][j] = 1\n",
    "\n",
    "    for i in range(qx):\n",
    "        grad[i][qy] = ry \n",
    "    \n",
    "    for j in range(qy):\n",
    "        grad[qx][j] = rx \n",
    "\n",
    "    grad[qx][qy] = rx * ry\n",
    "    \n",
    "    grad = np.append(grad.reshape(-1), [0, 0, 0, 0])\n",
    "    grad = grad.reshape(1, grad.size)\n",
    "    return grad"
   ]
  },
  {
   "cell_type": "code",
   "execution_count": 7,
   "metadata": {},
   "outputs": [],
   "source": [
    "def build_tensor_gradient(X, n_bins):\n",
    "    grad = np.empty((0, n_bins * n_bins + 4))\n",
    "    for i in range(X.shape[0]):\n",
    "        qx = np.int64(X[i][-4])\n",
    "        qy = np.int64(X[i][-3])\n",
    "        rx = X[i][-2]\n",
    "        ry = X[i][-1]\n",
    "        grad = np.append(grad, compute_gradient(qx, qy, rx, ry, n_bins), axis=0)\n",
    "    return torch.tensor(grad)"
   ]
  },
  {
   "cell_type": "code",
   "execution_count": 16,
   "metadata": {},
   "outputs": [],
   "source": [
    "def train(dataloader, model, n_bins, loss_fn, optimizer):\n",
    "    size = len(dataloader.dataset)\n",
    "    model.train()\n",
    "    for batch, (X, y) in enumerate(dataloader):\n",
    "        X, y = X.to(device), y.to(device)\n",
    "\n",
    "        pred = model(X)\n",
    "        loss_val = loss_fn(pred, y)\n",
    "\n",
    "        grad_pred = torch.autograd.grad(\n",
    "            pred, X, grad_outputs=pred.data.new(pred.shape).fill_(1),\n",
    "            create_graph=True\n",
    "        )\n",
    "        grad_real = build_tensor_gradient(X.cpu(), n_bins)\n",
    "        loss_grad = loss_fn(grad_pred, grad_real)\n",
    "\n",
    "        loss = torch.mean(loss_val, loss_grad)\n",
    "        loss.backward()\n",
    "        optimizer.step()\n",
    "        optimizer.zero_grad()\n",
    "\n",
    "        if batch % 100 == 0:\n",
    "            loss, current = loss.item(), (batch + 1) * len(X)\n",
    "            print(f\"loss: {loss:>7f}  [{current:>5d}/{size:>5d}]\")"
   ]
  },
  {
   "cell_type": "code",
   "execution_count": 9,
   "metadata": {},
   "outputs": [],
   "source": [
    "def test(dataloader, model, loss_fn):\n",
    "    num_batches = len(dataloader)\n",
    "    model.eval()\n",
    "    test_loss = 0\n",
    "    with torch.no_grad():\n",
    "        for X, y, b in dataloader:\n",
    "            X, y, b = X.to(device), y.to(device), b.to(device)\n",
    "            pred = model(X)\n",
    "            test_loss += loss_fn(pred, y).item()\n",
    "    test_loss /= num_batches\n",
    "    r2 = r2_score(pred.cpu(), y.cpu())\n",
    "    b_r2 = r2_score(b.cpu(), y.cpu())\n",
    "    print(f\"Test Error: \\n R2 Score: {r2:>8f}, Baseline R2 Score: {b_r2:>8f}, Avg loss: {test_loss:>8f} \\n\")\n",
    "\n",
    "    return test_loss, r2, b_r2"
   ]
  },
  {
   "cell_type": "code",
   "execution_count": 10,
   "metadata": {},
   "outputs": [],
   "source": [
    "loss_fn = nn.MSELoss()\n",
    "optimizer = torch.optim.SGD(model.parameters(), lr=1e-3)"
   ]
  },
  {
   "cell_type": "code",
   "execution_count": 17,
   "metadata": {},
   "outputs": [
    {
     "name": "stdout",
     "output_type": "stream",
     "text": [
      "Epoch 1\n",
      "-------------------------------\n"
     ]
    },
    {
     "ename": "AttributeError",
     "evalue": "'tuple' object has no attribute 'size'",
     "output_type": "error",
     "traceback": [
      "\u001b[0;31m---------------------------------------------------------------------------\u001b[0m",
      "\u001b[0;31mAttributeError\u001b[0m                            Traceback (most recent call last)",
      "Cell \u001b[0;32mIn[17], line 9\u001b[0m\n\u001b[1;32m      7\u001b[0m \u001b[39mfor\u001b[39;00m t \u001b[39min\u001b[39;00m \u001b[39mrange\u001b[39m(epochs):\n\u001b[1;32m      8\u001b[0m     \u001b[39mprint\u001b[39m(\u001b[39mf\u001b[39m\u001b[39m\"\u001b[39m\u001b[39mEpoch \u001b[39m\u001b[39m{\u001b[39;00mt\u001b[39m+\u001b[39m\u001b[39m1\u001b[39m\u001b[39m}\u001b[39;00m\u001b[39m\\n\u001b[39;00m\u001b[39m-------------------------------\u001b[39m\u001b[39m\"\u001b[39m)\n\u001b[0;32m----> 9\u001b[0m     train(dataloader\u001b[39m=\u001b[39;49mdataloader_train, model\u001b[39m=\u001b[39;49mmodel, n_bins\u001b[39m=\u001b[39;49mn_bins, loss_fn\u001b[39m=\u001b[39;49mloss_fn, optimizer\u001b[39m=\u001b[39;49moptimizer)\n\u001b[1;32m     10\u001b[0m     test_loss, r2, b_r2 \u001b[39m=\u001b[39m test(dataloader\u001b[39m=\u001b[39mdataloader_test, model\u001b[39m=\u001b[39mmodel, loss_fn\u001b[39m=\u001b[39mloss_fn)\n\u001b[1;32m     11\u001b[0m     arr_loss\u001b[39m.\u001b[39mappend(test_loss)\n",
      "Cell \u001b[0;32mIn[16], line 15\u001b[0m, in \u001b[0;36mtrain\u001b[0;34m(dataloader, model, n_bins, loss_fn, optimizer)\u001b[0m\n\u001b[1;32m     10\u001b[0m grad_pred \u001b[39m=\u001b[39m torch\u001b[39m.\u001b[39mautograd\u001b[39m.\u001b[39mgrad(\n\u001b[1;32m     11\u001b[0m     pred, X, grad_outputs\u001b[39m=\u001b[39mpred\u001b[39m.\u001b[39mdata\u001b[39m.\u001b[39mnew(pred\u001b[39m.\u001b[39mshape)\u001b[39m.\u001b[39mfill_(\u001b[39m1\u001b[39m),\n\u001b[1;32m     12\u001b[0m     create_graph\u001b[39m=\u001b[39m\u001b[39mTrue\u001b[39;00m\n\u001b[1;32m     13\u001b[0m )\n\u001b[1;32m     14\u001b[0m grad_real \u001b[39m=\u001b[39m build_tensor_gradient(X\u001b[39m.\u001b[39mcpu()\u001b[39m.\u001b[39mdetach()\u001b[39m.\u001b[39mnumpy(), n_bins)\n\u001b[0;32m---> 15\u001b[0m loss_grad \u001b[39m=\u001b[39m loss_fn(grad_pred, grad_real)\n\u001b[1;32m     17\u001b[0m loss \u001b[39m=\u001b[39m torch\u001b[39m.\u001b[39mmean(loss_val, loss_grad)\n\u001b[1;32m     18\u001b[0m loss\u001b[39m.\u001b[39mbackward()\n",
      "File \u001b[0;32m~/code/card/.venv/lib/python3.11/site-packages/torch/nn/modules/module.py:1501\u001b[0m, in \u001b[0;36mModule._call_impl\u001b[0;34m(self, *args, **kwargs)\u001b[0m\n\u001b[1;32m   1496\u001b[0m \u001b[39m# If we don't have any hooks, we want to skip the rest of the logic in\u001b[39;00m\n\u001b[1;32m   1497\u001b[0m \u001b[39m# this function, and just call forward.\u001b[39;00m\n\u001b[1;32m   1498\u001b[0m \u001b[39mif\u001b[39;00m \u001b[39mnot\u001b[39;00m (\u001b[39mself\u001b[39m\u001b[39m.\u001b[39m_backward_hooks \u001b[39mor\u001b[39;00m \u001b[39mself\u001b[39m\u001b[39m.\u001b[39m_backward_pre_hooks \u001b[39mor\u001b[39;00m \u001b[39mself\u001b[39m\u001b[39m.\u001b[39m_forward_hooks \u001b[39mor\u001b[39;00m \u001b[39mself\u001b[39m\u001b[39m.\u001b[39m_forward_pre_hooks\n\u001b[1;32m   1499\u001b[0m         \u001b[39mor\u001b[39;00m _global_backward_pre_hooks \u001b[39mor\u001b[39;00m _global_backward_hooks\n\u001b[1;32m   1500\u001b[0m         \u001b[39mor\u001b[39;00m _global_forward_hooks \u001b[39mor\u001b[39;00m _global_forward_pre_hooks):\n\u001b[0;32m-> 1501\u001b[0m     \u001b[39mreturn\u001b[39;00m forward_call(\u001b[39m*\u001b[39;49margs, \u001b[39m*\u001b[39;49m\u001b[39m*\u001b[39;49mkwargs)\n\u001b[1;32m   1502\u001b[0m \u001b[39m# Do not call functions when jit is used\u001b[39;00m\n\u001b[1;32m   1503\u001b[0m full_backward_hooks, non_full_backward_hooks \u001b[39m=\u001b[39m [], []\n",
      "File \u001b[0;32m~/code/card/.venv/lib/python3.11/site-packages/torch/nn/modules/loss.py:536\u001b[0m, in \u001b[0;36mMSELoss.forward\u001b[0;34m(self, input, target)\u001b[0m\n\u001b[1;32m    535\u001b[0m \u001b[39mdef\u001b[39;00m \u001b[39mforward\u001b[39m(\u001b[39mself\u001b[39m, \u001b[39minput\u001b[39m: Tensor, target: Tensor) \u001b[39m-\u001b[39m\u001b[39m>\u001b[39m Tensor:\n\u001b[0;32m--> 536\u001b[0m     \u001b[39mreturn\u001b[39;00m F\u001b[39m.\u001b[39;49mmse_loss(\u001b[39minput\u001b[39;49m, target, reduction\u001b[39m=\u001b[39;49m\u001b[39mself\u001b[39;49m\u001b[39m.\u001b[39;49mreduction)\n",
      "File \u001b[0;32m~/code/card/.venv/lib/python3.11/site-packages/torch/nn/functional.py:3284\u001b[0m, in \u001b[0;36mmse_loss\u001b[0;34m(input, target, size_average, reduce, reduction)\u001b[0m\n\u001b[1;32m   3280\u001b[0m \u001b[39mif\u001b[39;00m has_torch_function_variadic(\u001b[39minput\u001b[39m, target):\n\u001b[1;32m   3281\u001b[0m     \u001b[39mreturn\u001b[39;00m handle_torch_function(\n\u001b[1;32m   3282\u001b[0m         mse_loss, (\u001b[39minput\u001b[39m, target), \u001b[39minput\u001b[39m, target, size_average\u001b[39m=\u001b[39msize_average, reduce\u001b[39m=\u001b[39mreduce, reduction\u001b[39m=\u001b[39mreduction\n\u001b[1;32m   3283\u001b[0m     )\n\u001b[0;32m-> 3284\u001b[0m \u001b[39mif\u001b[39;00m \u001b[39mnot\u001b[39;00m (target\u001b[39m.\u001b[39msize() \u001b[39m==\u001b[39m \u001b[39minput\u001b[39;49m\u001b[39m.\u001b[39;49msize()):\n\u001b[1;32m   3285\u001b[0m     warnings\u001b[39m.\u001b[39mwarn(\n\u001b[1;32m   3286\u001b[0m         \u001b[39m\"\u001b[39m\u001b[39mUsing a target size (\u001b[39m\u001b[39m{}\u001b[39;00m\u001b[39m) that is different to the input size (\u001b[39m\u001b[39m{}\u001b[39;00m\u001b[39m). \u001b[39m\u001b[39m\"\u001b[39m\n\u001b[1;32m   3287\u001b[0m         \u001b[39m\"\u001b[39m\u001b[39mThis will likely lead to incorrect results due to broadcasting. \u001b[39m\u001b[39m\"\u001b[39m\n\u001b[1;32m   3288\u001b[0m         \u001b[39m\"\u001b[39m\u001b[39mPlease ensure they have the same size.\u001b[39m\u001b[39m\"\u001b[39m\u001b[39m.\u001b[39mformat(target\u001b[39m.\u001b[39msize(), \u001b[39minput\u001b[39m\u001b[39m.\u001b[39msize()),\n\u001b[1;32m   3289\u001b[0m         stacklevel\u001b[39m=\u001b[39m\u001b[39m2\u001b[39m,\n\u001b[1;32m   3290\u001b[0m     )\n\u001b[1;32m   3291\u001b[0m \u001b[39mif\u001b[39;00m size_average \u001b[39mis\u001b[39;00m \u001b[39mnot\u001b[39;00m \u001b[39mNone\u001b[39;00m \u001b[39mor\u001b[39;00m reduce \u001b[39mis\u001b[39;00m \u001b[39mnot\u001b[39;00m \u001b[39mNone\u001b[39;00m:\n",
      "\u001b[0;31mAttributeError\u001b[0m: 'tuple' object has no attribute 'size'"
     ]
    }
   ],
   "source": [
    "epochs = 500\n",
    "\n",
    "arr_loss = []\n",
    "arr_r2 = []\n",
    "arr_br2 = []\n",
    "\n",
    "for t in range(epochs):\n",
    "    print(f\"Epoch {t+1}\\n-------------------------------\")\n",
    "    train(dataloader=dataloader_train, model=model, n_bins=n_bins, loss_fn=loss_fn, optimizer=optimizer)\n",
    "    test_loss, r2, b_r2 = test(dataloader=dataloader_test, model=model, loss_fn=loss_fn)\n",
    "    arr_loss.append(test_loss)\n",
    "    arr_r2.append(r2)\n",
    "    arr_br2.append(b_r2)\n",
    "\n",
    "print(\"Done!\")"
   ]
  },
  {
   "cell_type": "code",
   "execution_count": null,
   "metadata": {},
   "outputs": [],
   "source": [
    "\n",
    "fig, axs = plt.subplots(nrows=2, ncols=2, figsize=(15, 10))\n",
    "\n",
    "axs[0, 0].set_title(\"Avg MSE Loss\")\n",
    "axs[0, 0].set_xlabel(\"Epochs\")\n",
    "axs[0, 0].plot(range(1, epochs + 1), arr_loss)\n",
    "\n",
    "axs[0, 1].set_title(\"R2 Score\")\n",
    "axs[0, 1].set_xlabel(\"Epochs\")\n",
    "axs[0, 1].plot(range(1, epochs + 1), arr_r2, label=\"R2 Score\")\n",
    "axs[0, 1].plot(range(1, epochs + 1), arr_br2, label=\"Baseline R2 Score\")\n",
    "\n",
    "axs[1, 0].set_title(\"Avg MSE Loss - Last 10 Epochs\")\n",
    "axs[1, 0].set_xlabel(\"Epochs\")\n",
    "axs[1, 0].plot(range(epochs - 9, epochs + 1), arr_loss[-10:])\n",
    "\n",
    "axs[1, 1].set_title(\"R2 Score - Last 10 Epochs\")\n",
    "axs[1, 1].set_xlabel(\"Epochs\")\n",
    "axs[1, 1].plot(range(epochs - 9, epochs + 1), arr_r2[-10:], label=\"R2 Score\")\n",
    "axs[1, 1].plot(range(epochs - 9, epochs + 1), arr_br2[-10:], label=\"Baseline R2 Score\")\n",
    "\n",
    "fig.suptitle(\"Results\")\n",
    "\n",
    "plt.show()"
   ]
  },
  {
   "cell_type": "code",
   "execution_count": null,
   "metadata": {},
   "outputs": [],
   "source": []
  }
 ],
 "metadata": {
  "kernelspec": {
   "display_name": ".venv",
   "language": "python",
   "name": "python3"
  },
  "language_info": {
   "codemirror_mode": {
    "name": "ipython",
    "version": 3
   },
   "file_extension": ".py",
   "mimetype": "text/x-python",
   "name": "python",
   "nbconvert_exporter": "python",
   "pygments_lexer": "ipython3",
   "version": "3.11.5"
  },
  "orig_nbformat": 4
 },
 "nbformat": 4,
 "nbformat_minor": 2
}
